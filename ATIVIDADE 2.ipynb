{
 "cells": [
  {
   "cell_type": "markdown",
   "id": "f0af0c9e-8284-45e5-a0b3-a8bea33144ba",
   "metadata": {},
   "source": [
    "#### 1 - Escreva uma função que receba uma lista de números e retorne outra lista com os números ímpares."
   ]
  },
  {
   "cell_type": "code",
   "execution_count": 1,
   "id": "7d61b714-3e1f-4545-ba71-270478713b2b",
   "metadata": {},
   "outputs": [
    {
     "name": "stdout",
     "output_type": "stream",
     "text": [
      "[1, 3, 5, 7]\n"
     ]
    }
   ],
   "source": [
    "def filtrar(lista):\n",
    "    return [num for num in lista if num % 2 != 0]\n",
    "\n",
    "print(filtrar([1, 2, 3, 4, 5, 6, 7]))"
   ]
  },
  {
   "cell_type": "markdown",
   "id": "44df2c75-6b4f-492c-a508-3ccc336a1926",
   "metadata": {},
   "source": [
    "#### 2 - Escreva uma função que receba uma lista de números e retorne outra lista com os números primos presentes."
   ]
  },
  {
   "cell_type": "code",
   "execution_count": 2,
   "id": "9d2fd908-c06e-46e1-af3b-3e1b26ab5d2f",
   "metadata": {},
   "outputs": [
    {
     "name": "stdout",
     "output_type": "stream",
     "text": [
      "[2, 3, 5, 7, 11, 13]\n"
     ]
    }
   ],
   "source": [
    "def primo(n):\n",
    "    if n < 2:\n",
    "        return False\n",
    "    for i in range(2, int(n**0.5) + 1):\n",
    "        if n % i == 0:\n",
    "            return False\n",
    "    return True\n",
    "\n",
    "def filtrar_primo(lista):\n",
    "    return [num for num in lista if primo(num)]\n",
    "\n",
    "print(filtrar_primo([1, 2, 3, 4, 5, 6, 7, 8, 9, 10, 11, 12, 13]))"
   ]
  },
  {
   "cell_type": "markdown",
   "id": "307340be-ec27-40b7-9105-2e7a8d490e1a",
   "metadata": {},
   "source": [
    "#### 3 - Escreva uma função que receba duas listas e retorne outra lista com os elementos que estão presentes em apenas uma das listas."
   ]
  },
  {
   "cell_type": "code",
   "execution_count": 3,
   "id": "165b85ee-fd0e-45ee-90d8-9df4f19e1f64",
   "metadata": {},
   "outputs": [
    {
     "name": "stdout",
     "output_type": "stream",
     "text": [
      "[1, 2, 5, 6]\n"
     ]
    }
   ],
   "source": [
    "def listas(lista1, lista2):\n",
    "    return list(set(lista1) ^ set(lista2))\n",
    "\n",
    "print(listas([1, 2, 3, 4], [3, 4, 5, 6]))"
   ]
  },
  {
   "cell_type": "markdown",
   "id": "a78c76f1-0ace-467f-93cb-a3b2ac7616f6",
   "metadata": {},
   "source": [
    "#### 4 - Dada uma lista de números inteiros, escreva uma função para encontrar o segundo maior valor na lista."
   ]
  },
  {
   "cell_type": "code",
   "execution_count": 4,
   "id": "e64e096a-848e-4c9e-a928-1a78eca0364c",
   "metadata": {},
   "outputs": [
    {
     "name": "stdout",
     "output_type": "stream",
     "text": [
      "10\n"
     ]
    }
   ],
   "source": [
    "def segundo_maior(lista):\n",
    "    lista_unica = list(set(lista))\n",
    "    if len(lista_unica) < 2:\n",
    "        return None\n",
    "    lista_unica.sort(reverse=True)\n",
    "    return lista_unica[1]\n",
    "\n",
    "print(segundo_maior([10, 5, 8, 20, 20, 3]))"
   ]
  },
  {
   "cell_type": "markdown",
   "id": "2d4b1e7e-47a6-4d08-8542-9f2d05d29b75",
   "metadata": {},
   "source": [
    "#### 5 - Crie uma função que receba uma lista de tuplas, cada uma contendo o nome e a idade de uma pessoa, e retorne a lista ordenada pelo nome das pessoas em ordem alfabética."
   ]
  },
  {
   "cell_type": "code",
   "execution_count": 5,
   "id": "05dddf31-d7ac-4473-bc2a-7de2436d9c2b",
   "metadata": {},
   "outputs": [
    {
     "name": "stdout",
     "output_type": "stream",
     "text": [
      "[('Ana', 30), ('Carlos', 22), ('João', 25)]\n"
     ]
    }
   ],
   "source": [
    "def ordenar_por_nome(lista):\n",
    "    return sorted(lista, key=lambda x: x[0])\n",
    "\n",
    "print(ordenar_por_nome([(\"João\", 25), (\"Ana\", 30), (\"Carlos\", 22)]))"
   ]
  },
  {
   "cell_type": "markdown",
   "id": "db483ee9-08e1-483b-84fe-b5e56a336cdc",
   "metadata": {},
   "source": [
    "#### 6 - Como identificar e tratar outliers em uma coluna numérica usando desvio padrão ou quartis?"
   ]
  },
  {
   "cell_type": "code",
   "execution_count": 6,
   "id": "7a429a43-71e6-45b0-a652-10caa4933853",
   "metadata": {},
   "outputs": [
    {
     "name": "stdout",
     "output_type": "stream",
     "text": [
      "    valores\n",
      "0        10\n",
      "1        12\n",
      "2        13\n",
      "3        14\n",
      "4        15\n",
      "5        16\n",
      "6        18\n",
      "7        20\n",
      "8       100\n",
      "9       410\n",
      "10      350\n"
     ]
    }
   ],
   "source": [
    "import pandas as pd\n",
    "\n",
    "df = pd.DataFrame({'valores': [10, 12, 13, 14, 15, 16, 18, 20, 100, 410, 350, 500, 800]})\n",
    "\n",
    "def remover_outliers_desvio(df, coluna):\n",
    "    media = df[coluna].mean()\n",
    "    desvio = df[coluna].std()\n",
    "    limite_inf = media - 1 * desvio\n",
    "    limite_sup = media + 1 * desvio\n",
    "    filtro = (df[coluna] >= limite_inf) & (df[coluna] <= limite_sup)\n",
    "    return df.loc[filtro]\n",
    "\n",
    "resultado = remover_outliers_desvio(df, 'valores')\n",
    "print(resultado)"
   ]
  },
  {
   "cell_type": "markdown",
   "id": "de7784e6-93d7-4033-88e9-2f1814e1d115",
   "metadata": {},
   "source": [
    "#### 7 - Como concatenar vários DataFrames (empilhando linhas ou colunas), mesmo que tenham colunas diferentes?"
   ]
  },
  {
   "cell_type": "code",
   "execution_count": 7,
   "id": "1f0137ef-0033-4fcc-860d-f3c86584cc5a",
   "metadata": {
    "scrolled": true
   },
   "outputs": [
    {
     "name": "stdout",
     "output_type": "stream",
     "text": [
      "Concatenação por linhas:\n",
      "      A  B    C\n",
      "0  1.0  3  NaN\n",
      "1  2.0  4  NaN\n",
      "0  NaN  5  7.0\n",
      "1  NaN  6  8.0\n",
      "\n",
      "Concatenação por colunas:\n",
      "    A  B  B  C\n",
      "0  1  3  5  7\n",
      "1  2  4  6  8\n"
     ]
    }
   ],
   "source": [
    "import pandas as pd\n",
    "\n",
    "df1 = pd.DataFrame({'A': [1, 2], 'B': [3, 4]})\n",
    "df2 = pd.DataFrame({'B': [5, 6], 'C': [7, 8]})\n",
    "\n",
    "concat_linhas = pd.concat([df1, df2], axis=0)\n",
    "\n",
    "concat_colunas = pd.concat([df1, df2], axis=1)\n",
    "\n",
    "print(\"Concatenação por linhas:\\n\", concat_linhas)\n",
    "print(\"\\nConcatenação por colunas:\\n\", concat_colunas)"
   ]
  },
  {
   "cell_type": "markdown",
   "id": "d5c0a4b9-370d-4db0-8b98-6badde2aaec3",
   "metadata": {},
   "source": [
    "#### 8 - Utilizando pandas, como realizar a leitura de um arquivo CSV em um DataFrame e exibir as primeiras linhas?"
   ]
  },
  {
   "cell_type": "code",
   "execution_count": null,
   "id": "719f5e28-ec2d-4b81-b7b9-65e53cb5ed1c",
   "metadata": {
    "scrolled": true
   },
   "outputs": [],
   "source": [
    "import pandas as pd\n",
    "\n",
    "df = pd.read_csv('nome-dataset.csv')\n",
    "\n",
    "print(df.head())"
   ]
  },
  {
   "cell_type": "markdown",
   "id": "fe8d9b21-2cc1-416f-8449-068e04fa5a5c",
   "metadata": {},
   "source": [
    "#### 9 - Utilizando pandas, como selecionar uma coluna específica e filtrar linhas em um “DataFrame” com base em uma condição?"
   ]
  },
  {
   "cell_type": "code",
   "execution_count": 9,
   "id": "2cb7b61a-0713-49d8-b97a-327cf3d86896",
   "metadata": {},
   "outputs": [
    {
     "name": "stdout",
     "output_type": "stream",
     "text": [
      "1    35\n",
      "3    40\n",
      "Name: idade, dtype: int64\n"
     ]
    }
   ],
   "source": [
    "import pandas as pd\n",
    "\n",
    "df = pd.DataFrame({'nome': ['Ana', 'Bruno', 'Carla', 'Diego'], 'idade': [28, 35, 22, 40]})\n",
    "\n",
    "filtro = df[df['idade'] > 30]['idade']\n",
    "\n",
    "print(filtro)"
   ]
  },
  {
   "cell_type": "markdown",
   "id": "10d80aa4-7e4a-4a6f-86a3-ce250867a06d",
   "metadata": {},
   "source": [
    "#### 10 - Utilizando pandas, como lidar com valores ausentes (NaN) em um DataFrame?"
   ]
  },
  {
   "cell_type": "code",
   "execution_count": 10,
   "id": "7528f026-89b2-4d3f-96ff-65a55bc887f8",
   "metadata": {},
   "outputs": [
    {
     "name": "stdout",
     "output_type": "stream",
     "text": [
      "\n",
      "DataFrame sem NaN:\n",
      "      A    B   C\n",
      "0  1.0  5.0   9\n",
      "3  4.0  8.0  12\n",
      "\n",
      "DataFrame com NaN preenchido:\n",
      "      A    B   C\n",
      "0  1.0  5.0   9\n",
      "1  2.0  0.0  10\n",
      "2  0.0  0.0  11\n",
      "3  4.0  8.0  12\n"
     ]
    }
   ],
   "source": [
    "import pandas as pd\n",
    "import numpy as np\n",
    "\n",
    "df = pd.DataFrame({\n",
    "    'A': [1, 2, np.nan, 4],\n",
    "    'B': [5, np.nan, np.nan, 8],\n",
    "    'C': [9, 10, 11, 12]\n",
    "})\n",
    "\n",
    "df.isna() # Identificando valores ausentes \n",
    "\n",
    "df_removido = df.dropna() # Pode-se remover os valores ausentes\n",
    "\n",
    "df_preenchido = df.fillna(0) # Pode-se preencher valores ausentes com um valor (ex: 0)\n",
    "\n",
    "print(\"\\nDataFrame sem NaN:\\n\", df_removido)\n",
    "print(\"\\nDataFrame com NaN preenchido:\\n\", df_preenchido)"
   ]
  }
 ],
 "metadata": {
  "kernelspec": {
   "display_name": "Python 3 (ipykernel)",
   "language": "python",
   "name": "python3"
  },
  "language_info": {
   "codemirror_mode": {
    "name": "ipython",
    "version": 3
   },
   "file_extension": ".py",
   "mimetype": "text/x-python",
   "name": "python",
   "nbconvert_exporter": "python",
   "pygments_lexer": "ipython3",
   "version": "3.8.10"
  }
 },
 "nbformat": 4,
 "nbformat_minor": 5
}
