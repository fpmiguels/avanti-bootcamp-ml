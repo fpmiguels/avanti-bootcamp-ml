{
 "cells": [
  {
   "cell_type": "markdown",
   "id": "bd9851e1-0a46-40ca-af4e-9470778f2ce9",
   "metadata": {},
   "source": [
    "\n",
    "\n",
    "1 - O que é machine learning?\n",
    "\n",
    "R: Machine learning é uma área da inteligência artificial que permite que sistemas aprendam automaticamente a partir de dados. Em vez de seguir regras fixas, o modelo identifica padrões nos dados e usa esse aprendizado para fazer previsões ou tomar decisões em novas situações.\n",
    "\n",
    "2 - Explique o conceito de conjunto de treinamento, conjunto de validação e conjunto de teste em machine learning.\n",
    "\n",
    "R: O conjunto de treinamento é usado para ensinar o modelo, ou seja, ele aprende os padrões dos dados. O de validação serve para ajustar os hiperparâmetros e evitar overfitting, avaliando o desempenho durante o desenvolvimento. Já o conjunto de teste é usado no final, para medir como o modelo se comporta com dados totalmente novos, simulando sua performance real.\n",
    "\n",
    "3 - Explique como você lidaria com dados ausentes em um conjunto de dados de treinamento.\n",
    "\n",
    "R: Primeiro, analiso o quanto e onde faltam os dados. Se forem poucos, posso remover. Caso contrário, uso técnicas de imputação, como preencher com média, mediana ou usando modelos.\n",
    "\n",
    "4 - O que é uma matriz de confusão e como ela é usada para avaliar o desempenho de um modelo preditivo?\n",
    "\n",
    "R: É uma tabela que mostra os acertos e erros de um modelo de classificação, comparando as classes previstas com as reais. Ela permite calcular métricas como acurácia, precisão e recall, ajudando a entender se o modelo está errando mais falsos positivos ou falsos negativos.\n",
    "\n",
    "5 - Em quais áreas (tais como construção civil, agricultura, saúde, manufatura, entre outras) você acha mais interessante aplicar algoritmos de machine learning?\n",
    "\n",
    "R: Acho mais interessante aplicar machine learning na agricultura, finanças e manufatura. Na agricultura, algoritmos ajudam a prever safras, identificar pragas e otimizar irrigação com base em dados climáticos. Na área financeira, ML é usado para prever riscos, detectar fraudes e automatizar decisões de investimento. Já na manufatura, é útil para manutenção preditiva, controle de qualidade e otimização de processos produtivos."
   ]
  }
 ],
 "metadata": {
  "kernelspec": {
   "display_name": "Python 3 (ipykernel)",
   "language": "python",
   "name": "python3"
  },
  "language_info": {
   "codemirror_mode": {
    "name": "ipython",
    "version": 3
   },
   "file_extension": ".py",
   "mimetype": "text/x-python",
   "name": "python",
   "nbconvert_exporter": "python",
   "pygments_lexer": "ipython3",
   "version": "3.8.10"
  }
 },
 "nbformat": 4,
 "nbformat_minor": 5
}
